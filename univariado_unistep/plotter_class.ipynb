{
 "cells": [
  {
   "cell_type": "code",
   "execution_count": 1,
   "metadata": {},
   "outputs": [],
   "source": [
    "import matplotlib.pyplot as plt\n",
    "\n",
    "class Plotter:\n",
    "    def __init__(self, figsize=(16, 5)):\n",
    "        self.figsize = figsize\n",
    "        self.fig, self.ax = plt.subplots(figsize=self.figsize)\n",
    "\n",
    "    def plot(self, data, label):\n",
    "        self.ax.plot(data, label=label)\n",
    "\n",
    "    def configure(self, title=None, xlabel=None, ylabel=None):\n",
    "        if title:\n",
    "            self.ax.set_title(title)\n",
    "        if xlabel:\n",
    "            self.ax.set_xlabel(xlabel)\n",
    "        if ylabel:\n",
    "            self.ax.set_ylabel(ylabel)\n",
    "\n",
    "    def show(self):\n",
    "        plt.legend()\n",
    "        plt.show()"
   ]
  }
 ],
 "metadata": {
  "kernelspec": {
   "display_name": "venv",
   "language": "python",
   "name": "python3"
  },
  "language_info": {
   "codemirror_mode": {
    "name": "ipython",
    "version": 3
   },
   "file_extension": ".py",
   "mimetype": "text/x-python",
   "name": "python",
   "nbconvert_exporter": "python",
   "pygments_lexer": "ipython3",
   "version": "3.12.3"
  }
 },
 "nbformat": 4,
 "nbformat_minor": 2
}
