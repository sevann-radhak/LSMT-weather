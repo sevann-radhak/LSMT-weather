{
 "cells": [
  {
   "cell_type": "code",
   "execution_count": 1,
   "metadata": {},
   "outputs": [],
   "source": [
    "from ipynb.fs.full.dataset_scaler import DatasetScaler\n",
    "\n",
    "class DataScalerManager:\n",
    "    def __init__(self, feature_range=(-1, 1)):\n",
    "        \"\"\"\n",
    "        Initializes the DataScalerManager with a specified feature range.\n",
    "\n",
    "        Parameters:\n",
    "        - feature_range: A tuple specifying the range for scaling (default is (-1, 1)).\n",
    "        \"\"\"\n",
    "        self.scaler = DatasetScaler(feature_range)\n",
    "\n",
    "    def scale_data(self, data_in: dict, col_ref) -> dict:\n",
    "        \"\"\"\n",
    "        Scales the input datasets.\n",
    "\n",
    "        Parameters:\n",
    "        - data_in: A dictionary containing the input and output datasets.\n",
    "\n",
    "        Returns:\n",
    "        - A dictionary with the scaled datasets.\n",
    "        \"\"\"\n",
    "        scaled_data, scalers = self.scaler.escalar_dataset(data_in, col_ref)\n",
    "        return scaled_data, scalers\n",
    "\n",
    "    def print_min_max(self, original_data: dict, scaled_data: dict) -> None:\n",
    "        \"\"\"\n",
    "        Prints the minimum and maximum values of the original and scaled datasets.\n",
    "\n",
    "        Parameters:\n",
    "        - original_data: A dictionary containing the original datasets.\n",
    "        - scaled_data: A dictionary containing the scaled datasets.\n",
    "        \"\"\"\n",
    "        for key in original_data.keys():\n",
    "            if 'x' in key:\n",
    "                print(f'Min {key} without scaling: {original_data[key].min()}')\n",
    "                print(f'Min {key} with scaling: {scaled_data[key].min()}')\n",
    "                print(f'Max {key} without scaling: {original_data[key].max()}')\n",
    "                print(f'Max {key} with scaling: {scaled_data[key].max()} \\n')\n",
    "            elif 'y' in key:\n",
    "                print(f'Min {key} without scaling: {original_data[key].min()}')\n",
    "                print(f'Min {key} with scaling: {scaled_data[key].min()}')\n",
    "                print(f'Max {key} without scaling: {original_data[key].max()}')\n",
    "                print(f'Max {key} with scaling: {scaled_data[key].max()} \\n')"
   ]
  }
 ],
 "metadata": {
  "kernelspec": {
   "display_name": "venv",
   "language": "python",
   "name": "python3"
  },
  "language_info": {
   "codemirror_mode": {
    "name": "ipython",
    "version": 3
   },
   "file_extension": ".py",
   "mimetype": "text/x-python",
   "name": "python",
   "nbconvert_exporter": "python",
   "pygments_lexer": "ipython3",
   "version": "3.12.3"
  }
 },
 "nbformat": 4,
 "nbformat_minor": 2
}
