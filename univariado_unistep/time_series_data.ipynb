{
 "cells": [
  {
   "cell_type": "code",
   "execution_count": 1,
   "metadata": {},
   "outputs": [],
   "source": [
    "import pandas as pd\n",
    "\n",
    "class TimeSeriesData:\n",
    "    def __init__(self, data_path, file_name):\n",
    "        self.data_path = data_path\n",
    "        self.file_name = file_name\n",
    "        self.df = self.load_data()\n",
    "\n",
    "    def load_data(self):\n",
    "        return pd.read_csv(f\"{self.data_path}/{self.file_name}\")\n",
    "\n",
    "    def train_val_test_split(self, series, train_size=0.8, val_size=0.1):\n",
    "        N = series.shape[0]\n",
    "        N_train = int(train_size * N)\n",
    "        N_val = int(val_size * N)\n",
    "        train = series[0:N_train]\n",
    "        val = series[N_train:N_train + N_val]\n",
    "        test = series[N_train + N_val:]\n",
    "        \n",
    "        return train, val, test"
   ]
  }
 ],
 "metadata": {
  "kernelspec": {
   "display_name": "venv",
   "language": "python",
   "name": "python3"
  },
  "language_info": {
   "codemirror_mode": {
    "name": "ipython",
    "version": 3
   },
   "file_extension": ".py",
   "mimetype": "text/x-python",
   "name": "python",
   "nbconvert_exporter": "python",
   "pygments_lexer": "ipython3",
   "version": "3.12.3"
  }
 },
 "nbformat": 4,
 "nbformat_minor": 2
}
