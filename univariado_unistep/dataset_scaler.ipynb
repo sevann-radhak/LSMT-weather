{
 "cells": [
  {
   "cell_type": "code",
   "execution_count": 1,
   "metadata": {},
   "outputs": [],
   "source": [
    "import numpy as np\n",
    "from sklearn.preprocessing import MinMaxScaler\n",
    "from typing import Dict, Tuple\n",
    "\n",
    "class DatasetScaler:\n",
    "    def __init__(self, feature_range=(-1, 1)):\n",
    "        \"\"\"\n",
    "        Initializes the DatasetScaler with a specified feature range.\n",
    "\n",
    "        Parameters:\n",
    "        - feature_range: A ATS = dtuple specifying the range for scaling (default is (-1, 1)).\n",
    "        \"\"\"\n",
    "        self.feature_range = feature_range\n",
    "        self.scalers = []\n",
    "        \n",
    "        \n",
    "    def escalar_dataset(self, data_input):\n",
    "        NFEATS = data_input['x_train'].shape[2]        \n",
    "\n",
    "        scalers = [MinMaxScaler(feature_range=(-1,1)) for i in range(NFEATS)]\n",
    "        x_train_s = np.zeros(data_input['x_train'].shape)\n",
    "        x_val_s = np.zeros(data_input['x_val'].shape)\n",
    "        x_test_s = np.zeros(data_input['x_test'].shape)\n",
    "        y_train_s = np.zeros(data_input['y_train'].shape)\n",
    "        y_val_s = np.zeros(data_input['y_val'].shape)\n",
    "        y_test_s = np.zeros(data_input['y_test'].shape)\n",
    "\n",
    "        for i in range(NFEATS):\n",
    "            x_train_s[:,:,i] = scalers[i].fit_transform(data_input['x_train'][:,:,i])\n",
    "            x_val_s[:,:,i] = scalers[i].transform(data_input['x_val'][:,:,i])\n",
    "            x_test_s[:,:,i] = scalers[i].transform(data_input['x_test'][:,:,i])\n",
    "        \n",
    "        y_train_s[:,:,0] = scalers[-1].fit_transform(data_input['y_train'][:,:,0])\n",
    "        y_val_s[:,:,0] = scalers[-1].transform(data_input['y_val'][:,:,0])\n",
    "        y_test_s[:,:,0] = scalers[-1].transform(data_input['y_test'][:,:,0])\n",
    "\n",
    "        data_scaled = {\n",
    "            'x_train': x_train_s, 'y_train': y_train_s,\n",
    "            'x_val': x_val_s, 'y_val': y_val_s,\n",
    "            'x_test': x_test_s, 'y_test': y_test_s,\n",
    "        }\n",
    "\n",
    "        return data_scaled, scalers[0]"
   ]
  }
 ],
 "metadata": {
  "kernelspec": {
   "display_name": "venv",
   "language": "python",
   "name": "python3"
  },
  "language_info": {
   "codemirror_mode": {
    "name": "ipython",
    "version": 3
   },
   "file_extension": ".py",
   "mimetype": "text/x-python",
   "name": "python",
   "nbconvert_exporter": "python",
   "pygments_lexer": "ipython3",
   "version": "3.12.3"
  }
 },
 "nbformat": 4,
 "nbformat_minor": 2
}
