{
 "cells": [
  {
   "cell_type": "code",
   "execution_count": 1,
   "metadata": {},
   "outputs": [],
   "source": [
    "import numpy as np\n",
    "from typing import Tuple\n",
    "\n",
    "class SupervisedDatasetCreator:\n",
    "    def __init__(self, input_length: int, output_length: int):\n",
    "        \"\"\"\n",
    "        Initializes the SupervisedDatasetCreator instance with specified input and output lengths.\n",
    "\n",
    "        Parameters:\n",
    "        - input_length: Number of consecutive time steps used for input to the model.\n",
    "        - output_length: Number of time steps to predict (output of the model).\n",
    "        \"\"\"\n",
    "        self.input_length = input_length\n",
    "        self.output_length = output_length\n",
    "        \n",
    "    def create_supervised_dataset(self, array: np.ndarray) -> Tuple[np.ndarray, np.ndarray]:\n",
    "        X, Y = [], []    \n",
    "        shape = array.shape\n",
    "        if len(shape)==1: \n",
    "            fils, cols = array.shape[0], 1\n",
    "            array = array.reshape(fils,cols)\n",
    "        else: \n",
    "            fils, cols = array.shape\n",
    "\n",
    "        for i in range(fils-self.input_length-self.output_length):\n",
    "            X.append(array[i:i+self.input_length,0:cols])\n",
    "            Y.append(array[i+self.input_length:i+self.input_length+self.output_length,-1].reshape(self.output_length,1))\n",
    "        \n",
    "        X = np.array(X)\n",
    "        Y = np.array(Y)\n",
    "        \n",
    "        return X, Y"
   ]
  }
 ],
 "metadata": {
  "kernelspec": {
   "display_name": "venv",
   "language": "python",
   "name": "python3"
  },
  "language_info": {
   "codemirror_mode": {
    "name": "ipython",
    "version": 3
   },
   "file_extension": ".py",
   "mimetype": "text/x-python",
   "name": "python",
   "nbconvert_exporter": "python",
   "pygments_lexer": "ipython3",
   "version": "3.12.3"
  }
 },
 "nbformat": 4,
 "nbformat_minor": 2
}
